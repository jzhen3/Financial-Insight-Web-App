{
  "nbformat": 4,
  "nbformat_minor": 0,
  "metadata": {
    "colab": {
      "provenance": [],
      "authorship_tag": "ABX9TyNHk2b+11LKbAz99Rufg4HQ",
      "include_colab_link": true
    },
    "kernelspec": {
      "name": "python3",
      "display_name": "Python 3"
    },
    "language_info": {
      "name": "python"
    }
  },
  "cells": [
    {
      "cell_type": "markdown",
      "metadata": {
        "id": "view-in-github",
        "colab_type": "text"
      },
      "source": [
        "<a href=\"https://colab.research.google.com/github/samaksh97/DVA/blob/main/financial_data_collection.ipynb\" target=\"_parent\"><img src=\"https://colab.research.google.com/assets/colab-badge.svg\" alt=\"Open In Colab\"/></a>"
      ]
    },
    {
      "cell_type": "code",
      "execution_count": 1,
      "metadata": {
        "colab": {
          "base_uri": "https://localhost:8080/"
        },
        "id": "2FfOV8lbLRKk",
        "outputId": "f37a0d84-e90b-4474-c523-fd927b7f73b2"
      },
      "outputs": [
        {
          "output_type": "stream",
          "name": "stdout",
          "text": [
            "Looking in indexes: https://pypi.org/simple, https://us-python.pkg.dev/colab-wheels/public/simple/\n",
            "Collecting sec-api\n",
            "  Downloading sec_api-1.0.14-py3-none-any.whl (15 kB)\n",
            "Requirement already satisfied: requests in /usr/local/lib/python3.8/dist-packages (from sec-api) (2.25.1)\n",
            "Requirement already satisfied: certifi>=2017.4.17 in /usr/local/lib/python3.8/dist-packages (from requests->sec-api) (2022.12.7)\n",
            "Requirement already satisfied: urllib3<1.27,>=1.21.1 in /usr/local/lib/python3.8/dist-packages (from requests->sec-api) (1.24.3)\n",
            "Requirement already satisfied: idna<3,>=2.5 in /usr/local/lib/python3.8/dist-packages (from requests->sec-api) (2.10)\n",
            "Requirement already satisfied: chardet<5,>=3.0.2 in /usr/local/lib/python3.8/dist-packages (from requests->sec-api) (4.0.0)\n",
            "Installing collected packages: sec-api\n",
            "Successfully installed sec-api-1.0.14\n"
          ]
        }
      ],
      "source": [
        "pip install sec-api"
      ]
    },
    {
      "cell_type": "code",
      "source": [
        "# Api key : a7810c91f294b072f631b43305a6c16b37a1b5708e6ad97e2ae04f3908a98fb9"
      ],
      "metadata": {
        "id": "XA2NqHptLYrU"
      },
      "execution_count": null,
      "outputs": []
    },
    {
      "cell_type": "code",
      "source": [
        "from sec_api import QueryApi\n",
        "\n",
        "queryApi = QueryApi(api_key=\"a7810c91f294b072f631b43305a6c16b37a1b5708e6ad97e2ae04f3908a98fb9\")"
      ],
      "metadata": {
        "id": "lkXUbHaKLo7-"
      },
      "execution_count": 2,
      "outputs": []
    },
    {
      "cell_type": "code",
      "source": [
        "query = {\n",
        "  \"query\": { \"query_string\": { \n",
        "      \"query\": \"formType:\\\"10-K\\\" AND ticker:TSLA\", # only 10-Ks\n",
        "  }},\n",
        "  \"from\": \"0\", # start returning matches from position null, i.e. the first matching filing \n",
        "  \"size\": \"1\"  # return just one filing\n",
        "}\n",
        "\n",
        "response = queryApi.get_filings(query)"
      ],
      "metadata": {
        "id": "X8MdXk-VLrm-"
      },
      "execution_count": 3,
      "outputs": []
    },
    {
      "cell_type": "code",
      "source": [
        "import json \n",
        "print(json.dumps(response[\"filings\"][0], indent=2))"
      ],
      "metadata": {
        "colab": {
          "base_uri": "https://localhost:8080/"
        },
        "id": "clPlSqgsLwNW",
        "outputId": "44cc76fb-b427-44ec-f65a-428092a8cda4"
      },
      "execution_count": 4,
      "outputs": [
        {
          "output_type": "stream",
          "name": "stdout",
          "text": [
            "{\n",
            "  \"ticker\": \"TSLA\",\n",
            "  \"formType\": \"10-K\",\n",
            "  \"accessionNo\": \"0001193125-14-069681\",\n",
            "  \"cik\": \"1318605\",\n",
            "  \"companyNameLong\": \"TESLA MOTORS INC (Filer)\",\n",
            "  \"companyName\": \"TESLA MOTORS INC\",\n",
            "  \"linkToFilingDetails\": \"https://www.sec.gov/Archives/edgar/data/1318605/000119312514069681/d668062d10k.htm\",\n",
            "  \"description\": \"Form 10-K - Annual report [Section 13 and 15(d), not S-K Item 405]\",\n",
            "  \"linkToTxt\": \"https://www.sec.gov/Archives/edgar/data/1318605/000119312514069681/0001193125-14-069681.txt\",\n",
            "  \"filedAt\": \"2014-02-26T16:02:51-05:00\",\n",
            "  \"documentFormatFiles\": [\n",
            "    {\n",
            "      \"sequence\": \"1\",\n",
            "      \"size\": \"1589148\",\n",
            "      \"documentUrl\": \"https://www.sec.gov/Archives/edgar/data/1318605/000119312514069681/d668062d10k.htm\",\n",
            "      \"description\": \"10-K\",\n",
            "      \"type\": \"10-K\"\n",
            "    },\n",
            "    {\n",
            "      \"sequence\": \"2\",\n",
            "      \"size\": \"71602\",\n",
            "      \"documentUrl\": \"https://www.sec.gov/Archives/edgar/data/1318605/000119312514069681/d668062dex1035a.htm\",\n",
            "      \"description\": \"EX-10.35A\",\n",
            "      \"type\": \"EX-10.35A\"\n",
            "    },\n",
            "    {\n",
            "      \"sequence\": \"3\",\n",
            "      \"size\": \"4605\",\n",
            "      \"documentUrl\": \"https://www.sec.gov/Archives/edgar/data/1318605/000119312514069681/d668062dex121.htm\",\n",
            "      \"description\": \"EX-12.1\",\n",
            "      \"type\": \"EX-12.1\"\n",
            "    },\n",
            "    {\n",
            "      \"sequence\": \"4\",\n",
            "      \"size\": \"1532\",\n",
            "      \"documentUrl\": \"https://www.sec.gov/Archives/edgar/data/1318605/000119312514069681/d668062dex231.htm\",\n",
            "      \"description\": \"EX-23.1\",\n",
            "      \"type\": \"EX-23.1\"\n",
            "    },\n",
            "    {\n",
            "      \"sequence\": \"5\",\n",
            "      \"size\": \"9385\",\n",
            "      \"documentUrl\": \"https://www.sec.gov/Archives/edgar/data/1318605/000119312514069681/d668062dex311.htm\",\n",
            "      \"description\": \"EX-31.1\",\n",
            "      \"type\": \"EX-31.1\"\n",
            "    },\n",
            "    {\n",
            "      \"sequence\": \"6\",\n",
            "      \"size\": \"9394\",\n",
            "      \"documentUrl\": \"https://www.sec.gov/Archives/edgar/data/1318605/000119312514069681/d668062dex312.htm\",\n",
            "      \"description\": \"EX-31.2\",\n",
            "      \"type\": \"EX-31.2\"\n",
            "    },\n",
            "    {\n",
            "      \"sequence\": \"7\",\n",
            "      \"size\": \"5753\",\n",
            "      \"documentUrl\": \"https://www.sec.gov/Archives/edgar/data/1318605/000119312514069681/d668062dex321.htm\",\n",
            "      \"description\": \"EX-32.1\",\n",
            "      \"type\": \"EX-32.1\"\n",
            "    },\n",
            "    {\n",
            "      \"sequence\": \"14\",\n",
            "      \"size\": \"57153\",\n",
            "      \"documentUrl\": \"https://www.sec.gov/Archives/edgar/data/1318605/000119312514069681/g668062g78n59.jpg\",\n",
            "      \"description\": \"GRAPHIC\",\n",
            "      \"type\": \"GRAPHIC\"\n",
            "    },\n",
            "    {\n",
            "      \"sequence\": \"15\",\n",
            "      \"size\": \"6611\",\n",
            "      \"documentUrl\": \"https://www.sec.gov/Archives/edgar/data/1318605/000119312514069681/g668062img001.jpg\",\n",
            "      \"description\": \"GRAPHIC\",\n",
            "      \"type\": \"GRAPHIC\"\n",
            "    },\n",
            "    {\n",
            "      \"sequence\": \"\\u00a0\",\n",
            "      \"size\": \"10618517\",\n",
            "      \"documentUrl\": \"https://www.sec.gov/Archives/edgar/data/1318605/000119312514069681/0001193125-14-069681.txt\",\n",
            "      \"description\": \"Complete submission text file\",\n",
            "      \"type\": \"\\u00a0\"\n",
            "    }\n",
            "  ],\n",
            "  \"periodOfReport\": \"2013-12-31\",\n",
            "  \"entities\": [\n",
            "    {\n",
            "      \"fiscalYearEnd\": \"1231\",\n",
            "      \"stateOfIncorporation\": \"DE\",\n",
            "      \"act\": \"34\",\n",
            "      \"cik\": \"1318605\",\n",
            "      \"fileNo\": \"001-34756\",\n",
            "      \"irsNo\": \"912197729\",\n",
            "      \"companyName\": \"TESLA MOTORS INC (Filer)\",\n",
            "      \"type\": \"10-K\",\n",
            "      \"sic\": \"3711 Motor Vehicles &amp; Passenger Car Bodies\",\n",
            "      \"filmNo\": \"14644610\"\n",
            "    }\n",
            "  ],\n",
            "  \"id\": \"310203def96769445e593d2f3d0985d1\",\n",
            "  \"seriesAndClassesContractsInformation\": [],\n",
            "  \"linkToHtml\": \"https://www.sec.gov/Archives/edgar/data/1318605/0001193125-14-069681-index.htm\",\n",
            "  \"linkToXbrl\": \"\",\n",
            "  \"dataFiles\": [\n",
            "    {\n",
            "      \"sequence\": \"8\",\n",
            "      \"size\": \"1600452\",\n",
            "      \"documentUrl\": \"https://www.sec.gov/Archives/edgar/data/1318605/000119312514069681/tsla-20131231.xml\",\n",
            "      \"description\": \"XBRL INSTANCE DOCUMENT\",\n",
            "      \"type\": \"EX-101.INS\"\n",
            "    },\n",
            "    {\n",
            "      \"sequence\": \"9\",\n",
            "      \"size\": \"87227\",\n",
            "      \"documentUrl\": \"https://www.sec.gov/Archives/edgar/data/1318605/000119312514069681/tsla-20131231.xsd\",\n",
            "      \"description\": \"XBRL TAXONOMY EXTENSION SCHEMA\",\n",
            "      \"type\": \"EX-101.SCH\"\n",
            "    },\n",
            "    {\n",
            "      \"sequence\": \"10\",\n",
            "      \"size\": \"110361\",\n",
            "      \"documentUrl\": \"https://www.sec.gov/Archives/edgar/data/1318605/000119312514069681/tsla-20131231_cal.xml\",\n",
            "      \"description\": \"XBRL TAXONOMY EXTENSION CALCULATION LINKBASE\",\n",
            "      \"type\": \"EX-101.CAL\"\n",
            "    },\n",
            "    {\n",
            "      \"sequence\": \"11\",\n",
            "      \"size\": \"283193\",\n",
            "      \"documentUrl\": \"https://www.sec.gov/Archives/edgar/data/1318605/000119312514069681/tsla-20131231_def.xml\",\n",
            "      \"description\": \"XBRL TAXONOMY EXTENSION DEFINITION LINKBASE\",\n",
            "      \"type\": \"EX-101.DEF\"\n",
            "    },\n",
            "    {\n",
            "      \"sequence\": \"12\",\n",
            "      \"size\": \"721411\",\n",
            "      \"documentUrl\": \"https://www.sec.gov/Archives/edgar/data/1318605/000119312514069681/tsla-20131231_lab.xml\",\n",
            "      \"description\": \"XBRL TAXONOMY EXTENSION LABEL LINKBASE\",\n",
            "      \"type\": \"EX-101.LAB\"\n",
            "    },\n",
            "    {\n",
            "      \"sequence\": \"13\",\n",
            "      \"size\": \"489907\",\n",
            "      \"documentUrl\": \"https://www.sec.gov/Archives/edgar/data/1318605/000119312514069681/tsla-20131231_pre.xml\",\n",
            "      \"description\": \"XBRL TAXONOMY EXTENSION PRESENTATION LINKBASE\",\n",
            "      \"type\": \"EX-101.PRE\"\n",
            "    }\n",
            "  ]\n",
            "}\n"
          ]
        }
      ]
    },
    {
      "cell_type": "code",
      "source": [
        "base_query = {\n",
        "  \"query\": { \n",
        "      \"query_string\": { \n",
        "          \"query\": \"PLACEHOLDER\", # this will be set during runtime \n",
        "          \"time_zone\": \"America/New_York\"\n",
        "      } \n",
        "  },\n",
        "  \"from\": \"0\",\n",
        "  \"size\": \"200\", # dont change this\n",
        "  # sort returned filings by the filedAt key/value\n",
        "  \"sort\": [{ \"filedAt\": { \"order\": \"desc\" } }]\n",
        "}"
      ],
      "metadata": {
        "id": "0tYHxij9L1WC"
      },
      "execution_count": 5,
      "outputs": []
    },
    {
      "cell_type": "code",
      "source": [
        "\n",
        "# open the file we use to store the filing URLs\n",
        "log_file = open(\"filing_urls.txt\", \"a\")\n",
        "\n",
        "# start with filings filed in 2022, then 2020, 2019, ... up to 1995\n",
        "# uncomment next line to fetch all filings filed from 2022-1995\n",
        "# for year in range(2021, 1994, -1):\n",
        "for year in range(2022, 2020, -1):\n",
        "  print(\"Starting download for year {year}\".format(year=year))\n",
        "  \n",
        "  # a single search universe is represented as a month of the given year\n",
        "  for month in range(1, 13, 1):\n",
        "    # get 10-Q and 10-Q/A filings filed in year and month\n",
        "    # resulting query example: \"formType:\\\"10-Q\\\" AND filedAt:[2021-01-01 TO 2021-01-31]\"\n",
        "    universe_query = \\\n",
        "        \"formType:(\\\"10-K\\\", \\\"10-KT\\\", \\\"10KSB\\\", \\\"10KT405\\\", \\\"10KSB40\\\", \\\"10-K405\\\") AND \" + \\\n",
        "        \"filedAt:[{year}-{month:02d}-01 TO {year}-{month:02d}-31]\" \\\n",
        "        .format(year=year, month=month)\n",
        "  \n",
        "    # set new query universe for year-month combination\n",
        "    base_query[\"query\"][\"query_string\"][\"query\"] = universe_query;\n",
        "\n",
        "    # paginate through results by increasing \"from\" parameter \n",
        "    # until we don't find any matches anymore\n",
        "    # uncomment next line to fetch all 10,000 filings\n",
        "    # for from_batch in range(0, 9800, 200): \n",
        "    for from_batch in range(0, 400, 200):\n",
        "      # set new \"from\" starting position of search \n",
        "      base_query[\"from\"] = from_batch;\n",
        "\n",
        "      response = queryApi.get_filings(base_query)\n",
        "\n",
        "      # no more filings in search universe\n",
        "      if len(response[\"filings\"]) == 0:\n",
        "        break;\n",
        "\n",
        "      # for each filing, only save the URL pointing to the filing itself \n",
        "      # and ignore all other data. \n",
        "      # the URL is set in the dict key \"linkToFilingDetails\"\n",
        "      urls_list = list(map(lambda x: x[\"linkToFilingDetails\"], response[\"filings\"]))\n",
        "\n",
        "      # transform list of URLs into one string by joining all list elements\n",
        "      # and add a new-line character between each element.\n",
        "      urls_string = \"\\n\".join(urls_list) + \"\\n\"\n",
        "      \n",
        "      log_file.write(urls_string)\n",
        "\n",
        "    print(\"Filing URLs downloaded for {year}-{month:02d}\".format(year=year, month=month))\n",
        "\n",
        "log_file.close()\n",
        "\n",
        "print(\"All URLs downloaded\")\n"
      ],
      "metadata": {
        "colab": {
          "base_uri": "https://localhost:8080/"
        },
        "id": "cAXeiJkFMJWG",
        "outputId": "6dca37c1-a62e-43f5-a140-a3469fa49dc8"
      },
      "execution_count": 7,
      "outputs": [
        {
          "output_type": "stream",
          "name": "stdout",
          "text": [
            "Starting download for year 2022\n",
            "Filing URLs downloaded for 2022-01\n",
            "Filing URLs downloaded for 2022-02\n",
            "Filing URLs downloaded for 2022-03\n",
            "Filing URLs downloaded for 2022-04\n",
            "Filing URLs downloaded for 2022-05\n",
            "Filing URLs downloaded for 2022-06\n",
            "Filing URLs downloaded for 2022-07\n",
            "Filing URLs downloaded for 2022-08\n",
            "Filing URLs downloaded for 2022-09\n",
            "Filing URLs downloaded for 2022-10\n",
            "Filing URLs downloaded for 2022-11\n",
            "Filing URLs downloaded for 2022-12\n",
            "Starting download for year 2021\n",
            "Filing URLs downloaded for 2021-01\n",
            "Filing URLs downloaded for 2021-02\n",
            "Filing URLs downloaded for 2021-03\n",
            "Filing URLs downloaded for 2021-04\n",
            "Filing URLs downloaded for 2021-05\n",
            "Filing URLs downloaded for 2021-06\n",
            "Filing URLs downloaded for 2021-07\n",
            "Filing URLs downloaded for 2021-08\n",
            "Filing URLs downloaded for 2021-09\n",
            "Filing URLs downloaded for 2021-10\n",
            "Filing URLs downloaded for 2021-11\n",
            "Filing URLs downloaded for 2021-12\n",
            "All URLs downloaded\n"
          ]
        }
      ]
    },
    {
      "cell_type": "code",
      "source": [
        "from sec_api import RenderApi\n",
        "\n",
        "renderApi = RenderApi(api_key=\"a7810c91f294b072f631b43305a6c16b37a1b5708e6ad97e2ae04f3908a98fb9\")"
      ],
      "metadata": {
        "id": "Pe2im815MPnn"
      },
      "execution_count": 8,
      "outputs": []
    },
    {
      "cell_type": "code",
      "source": [
        "# download filing and save to \"filings\" folder\n",
        "def download_filing(url):\n",
        "  try:\n",
        "    filing = renderApi.get_filing(url)\n",
        "    # file_name example: 000156459019027952-msft-10k_20190630.htm\n",
        "    file_name = url.split(\"/\")[-2] + \"-\" + url.split(\"/\")[-1] \n",
        "    download_to = \"./filings/\" + file_name\n",
        "    with open(download_to, \"w\") as f:\n",
        "      f.write(filing)\n",
        "  except Exception as e:\n",
        "    print(\"Problem with {url}\".format(url=url))\n",
        "    print(e)"
      ],
      "metadata": {
        "id": "gpUQnvgTMZTx"
      },
      "execution_count": 9,
      "outputs": []
    },
    {
      "cell_type": "code",
      "source": [
        "def load_urls():\n",
        "  log_file = open(\"filing_urls.txt\", \"r\")\n",
        "  urls = log_file.read().split(\"\\n\") # convert long string of URLs into a list \n",
        "  log_file.close()\n",
        "  return urls"
      ],
      "metadata": {
        "id": "K0hxSV9hMb0D"
      },
      "execution_count": 10,
      "outputs": []
    },
    {
      "cell_type": "code",
      "source": [
        "import os\n",
        "import multiprocessing\n",
        "\n",
        "def download_all_filings():\n",
        "  print(\"Start downloading all filings\")\n",
        "\n",
        "  download_folder = \"./filings\" \n",
        "  if not os.path.isdir(download_folder):\n",
        "    os.makedirs(download_folder)\n",
        "    \n",
        "  # uncomment next line to process all URLs\n",
        "  # urls = load_urls()\n",
        "  urls = load_urls()[1:40]\n",
        "  print(\"{length} filing URLs loaded\".format(length=len(urls)))\n",
        "\n",
        "  number_of_processes = 20\n",
        "\n",
        "  with multiprocessing.Pool(number_of_processes) as pool:\n",
        "    pool.map(download_filing, urls)\n",
        "  \n",
        "  print(\"All filings downloaded\")"
      ],
      "metadata": {
        "id": "EoqRijcPMeQy"
      },
      "execution_count": 12,
      "outputs": []
    },
    {
      "cell_type": "code",
      "source": [
        "download_all_filings()"
      ],
      "metadata": {
        "colab": {
          "base_uri": "https://localhost:8080/"
        },
        "id": "_cf1LDWYMhEa",
        "outputId": "9078b5a7-9998-4c35-a318-a33ac15a03fe"
      },
      "execution_count": 13,
      "outputs": [
        {
          "output_type": "stream",
          "name": "stdout",
          "text": [
            "Start downloading all filings\n",
            "39 filing URLs loaded\n",
            "All filings downloaded\n"
          ]
        }
      ]
    },
    {
      "cell_type": "code",
      "source": [],
      "metadata": {
        "id": "YsVPwz_FMrMC"
      },
      "execution_count": null,
      "outputs": []
    }
  ]
}