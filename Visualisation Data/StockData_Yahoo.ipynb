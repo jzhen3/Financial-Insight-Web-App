{
  "nbformat": 4,
  "nbformat_minor": 0,
  "metadata": {
    "colab": {
      "provenance": []
    },
    "kernelspec": {
      "name": "python3",
      "display_name": "Python 3"
    },
    "language_info": {
      "name": "python"
    }
  },
  "cells": [
    {
      "cell_type": "code",
      "execution_count": 15,
      "metadata": {
        "id": "uhbUnbYKAymX"
      },
      "outputs": [],
      "source": [
        "import pandas as pd\n",
        "\n",
        "table=pd.read_html('https://en.wikipedia.org/wiki/List_of_S%26P_500_companies')\n",
        "df_ticker = table[0]\n",
        "# df_ticker.to_csv(\"../../data/sp500_ticker_sector.csv\",index=False)"
      ]
    },
    {
      "cell_type": "code",
      "source": [
        "# all_2000 =  pd.read_excel('/content/cik_lookup (2).xlsx',header = None, names = ['Symbol', 'id'])\n",
        "table=pd.read_html('https://en.wikipedia.org/wiki/List_of_S%26P_500_companies')\n",
        "df_ticker = table[0]\n",
        "\n"
      ],
      "metadata": {
        "id": "GTfpabOjVay9"
      },
      "execution_count": 22,
      "outputs": []
    },
    {
      "cell_type": "code",
      "source": [
        "# a['Symbol'] = a['Symbol'].str.upper()"
      ],
      "metadata": {
        "id": "gy_snn2VVjpW"
      },
      "execution_count": 17,
      "outputs": []
    },
    {
      "cell_type": "code",
      "source": [
        "import pandas as pd\n",
        "import yfinance as yf\n",
        "import datetime\n",
        "\n",
        "table=pd.read_html('https://en.wikipedia.org/wiki/List_of_S%26P_500_companies')\n",
        "df_ticker = table[0]\n",
        "start = datetime.datetime(2018, 1, 1)\n",
        "end = datetime.datetime(2023, 4, 1)\n",
        "tickers = list(df_ticker['Symbol'])\n",
        "print(tickers[:5])\n",
        "#['MMM', 'AOS', 'ABT', 'ABBV', 'ACN']\n",
        "stock_prices = yf.download(tickers, start=start, end=end)\n",
        "stock_prices.to_csv(\"/content/dva_stock_prices.csv\", index =None)"
      ],
      "metadata": {
        "colab": {
          "base_uri": "https://localhost:8080/"
        },
        "id": "H1GB_ZlJBFbU",
        "outputId": "baac0f14-8f7c-421d-9bb5-9dbb2ec65765"
      },
      "execution_count": 24,
      "outputs": [
        {
          "output_type": "stream",
          "name": "stdout",
          "text": [
            "['MMM', 'AOS', 'ABT', 'ABBV', 'ACN']\n",
            "[*********************100%***********************]  503 of 503 completed\n",
            "\n",
            "2 Failed downloads:\n",
            "- BRK.B: No timezone found, symbol may be delisted\n",
            "- BF.B: No data found for this date range, symbol may be delisted\n"
          ]
        }
      ]
    }
  ]
}